{
  "nbformat": 4,
  "nbformat_minor": 0,
  "metadata": {
    "colab": {
      "provenance": [],
      "authorship_tag": "ABX9TyMjRIceL/pChWKL12j0zFRA",
      "include_colab_link": true
    },
    "kernelspec": {
      "name": "python3",
      "display_name": "Python 3"
    },
    "language_info": {
      "name": "python"
    }
  },
  "cells": [
    {
      "cell_type": "markdown",
      "metadata": {
        "id": "view-in-github",
        "colab_type": "text"
      },
      "source": [
        "<a href=\"https://colab.research.google.com/github/EduardoLawson1/Previs-o-do-tempo-com-windguru/blob/main/Previs%C3%A3o_Windguru.ipynb\" target=\"_parent\"><img src=\"https://colab.research.google.com/assets/colab-badge.svg\" alt=\"Open In Colab\"/></a>"
      ]
    },
    {
      "cell_type": "code",
      "execution_count": null,
      "metadata": {
        "colab": {
          "base_uri": "https://localhost:8080/"
        },
        "id": "2408oNC_e5kP",
        "outputId": "b6bf8793-0133-4b92-8575-b1362fb49643"
      },
      "outputs": [
        {
          "output_type": "stream",
          "name": "stdout",
          "text": [
            "tempo\n",
            "[1 1 2 2 2 0 2 1 1 0 1 2 2 0]\n",
            "temperatura\n",
            "[1 1 1 0 0 2 2 0 2 0 0 0 3 0]\n",
            "label desejada\n",
            "[0 0 0 0 0 0 1 0 1 1 1 1 1 0]\n",
            "features de entrada para aprender\n",
            "[(1, 1), (1, 1), (2, 1), (2, 0), (2, 0), (0, 2), (2, 2), (1, 0), (1, 2), (0, 0), (1, 0), (2, 0), (2, 3), (0, 0)]\n",
            "Vai chover?\n",
            "[0]\n"
          ]
        }
      ],
      "source": [
        "from scipy.spatial import distance\n",
        "\n",
        "# defining our custom classifier\n",
        "class ScrappyKNN():\n",
        "    # here, we memorize the dataset into our class\n",
        "    def fit(self, X_train, y_train):\n",
        "        self.X_train = X_train\n",
        "        self.y_train = y_train\n",
        "\n",
        "    # here, we predict the targets\n",
        "    def predict(self, X_test):\n",
        "        predictions = []\n",
        "\n",
        "        for row in X_test:\n",
        "            label = self.closest(row)\n",
        "            predictions.append(label)\n",
        "\n",
        "        return predictions\n",
        "\n",
        "    # here, we calculate the nearest neighbors using euclidean distance between two points\n",
        "    def closest(self, row):\n",
        "        best_dist = distance.euclidean(row, self.X_train[0])\n",
        "        best_index = 0\n",
        "\n",
        "        for i in range(1, len(self.X_train)):\n",
        "            dist = distance.euclidean(row, self.X_train[i])\n",
        "\n",
        "            if dist < best_dist:\n",
        "                best_dist = dist\n",
        "                best_index = i\n",
        "\n",
        "        return self.y_train[best_index]\n",
        "\n",
        "# import a dataset\n",
        "from sklearn import datasets\n",
        "iris = datasets.load_iris()\n",
        "\n",
        "# Buscando features e labels\n",
        "# Primeira feature\n",
        "tempo=['Ensolarado','Ensolarado','Nublado','Nublado','Nublado','Chuvoso','Nublado','Ensolarado','Ensolarado','Chuvoso','Ensolarado','Nublado','Nublado','Chuvoso']\n",
        "# Segunda feature\n",
        "temperatura=['Agradável','Agradável','Agradável','Agradavel','Agradavel','Frio','Frio','Agradavel','Frio','Agradavel','Agradavel','Agradavel','Quente','Agradavel']\n",
        "\n",
        "# Label or target varible\n",
        "chove=['Nao','Nao','Nao','Nao','Nao','Nao','Sim','Nao','Sim','Sim','Sim','Sim','Sim','Nao']\n",
        "\n",
        "\n",
        "#trasnformar variáveis categóricas em numéricas\n",
        "# Import LabelEncoder\n",
        "from sklearn import preprocessing\n",
        "\n",
        "#criando um labelEncoder\n",
        "le = preprocessing.LabelEncoder()\n",
        "\n",
        "# Convete string em numeros\n",
        "tempo_encoded=le.fit_transform(tempo)\n",
        "print(\"tempo\")\n",
        "print(tempo_encoded)\n",
        "\n",
        "#transforma todas as categoricas em numerica\n",
        "temperatura_encoded=le.fit_transform(temperatura)\n",
        "label=le.fit_transform(chove)\n",
        "print(\"temperatura\")\n",
        "print(temperatura_encoded)\n",
        "print(\"label desejada\")\n",
        "print(label)\n",
        "\n",
        "#combina cada vetor em um dataset, zipando eles em uma lista de tuplas\n",
        "features=list(zip(tempo_encoded,temperatura_encoded))\n",
        "print(\"features de entrada para aprender\")\n",
        "print(features)\n",
        "\n",
        "# put the data and targets as X and y to simulate a function\n",
        "#X = iris.data\n",
        "#y = iris.target\n",
        "\n",
        "# partition the data as train and test\n",
        "#from sklearn.model_selection import train_test_split\n",
        "#X_train, X_test, y_train, y_test = train_test_split(X, y, test_size = .5)\n",
        "\n",
        "# get the Scrappy K-Nearest Neighbors Classifier\n",
        "sknn_classifier = ScrappyKNN()\n",
        "\n",
        "# fit a curve using SKNN\n",
        "#sknn_classifier.fit(X_train, y_train)\n",
        "sknn_classifier.fit(features, label)\n",
        "\n",
        "\n",
        "# predict the target on given test data using SKNN\n",
        "#scrappy_predictions = sknn_classifier.predict(X_test)\n",
        "scrappy_predictions = sknn_classifier.predict([[2,1]])\n",
        "print(\"Vai chover?\")\n",
        "print(scrappy_predictions)\n",
        "\n",
        "\n",
        "# display accuracy score or confidence factor\n",
        "#from sklearn.metrics import accuracy_score\n",
        "#print(\"Accuracy Score using our Scrappy KNN: %s\" % accuracy_score(y_test, scrappy_predictions))\n"
      ]
    }
  ]
}